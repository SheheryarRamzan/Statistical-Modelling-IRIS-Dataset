{
 "cells": [
  {
   "cell_type": "code",
   "execution_count": 17,
   "id": "9af2f14d",
   "metadata": {},
   "outputs": [
    {
     "name": "stdout",
     "output_type": "stream",
     "text": [
      "94% HDI: [0.09651746 0.53000798]\n",
      "94% ETI: (0.09350266679011356, 0.5310820607852346)\n",
      "Posterior predictive probability of at least 1 event occurring: 0.9434782608695652\n"
     ]
    }
   ],
   "source": [
    "import scipy.stats as stats\n",
    "import numpy as np\n",
    "\n",
    "os = 3 # Observed Success\n",
    "te = 12 # Total Events\n",
    "\n",
    "# Prior distribution -> Beta(1, 1) is uniform \n",
    "prior_distribution = stats.beta(a=1, b=1)\n",
    "\n",
    "# Calculate posterior distribution as Beta(a + k, b + n - k)\n",
    "posterior_distribution = stats.beta(a=1 + os, b=1 + te - os)\n",
    "\n",
    "# Calculate HDI \n",
    "hdi = np.quantile(posterior_distribution.rvs(10000), [0.03, 0.97])\n",
    "\n",
    "# Calculating ETI\n",
    "lower_percentile = 3\n",
    "upper_percentile = 97\n",
    "eti = (np.percentile(posterior_distribution.rvs(size=10000), lower_percentile),\n",
    "       np.percentile(posterior_distribution.rvs(size=10000), upper_percentile))\n",
    "\n",
    "\n",
    "# Part B\n",
    "posterior_predictive_distribution = stats.betabinom(n=te, a=1 + os, b=1 + te - os)\n",
    "posterior_predictive_probability = 1 - posterior_predictive_distribution.pmf(0)\n",
    "\n",
    "# Print results\n",
    "print(\"94% HDI:\", hdi)\n",
    "print(\"94% ETI:\", eti)\n",
    "print(\"Posterior predictive probability of at least 1 event occurring:\", posterior_predictive_probability)\n"
   ]
  },
  {
   "cell_type": "code",
   "execution_count": null,
   "id": "1cee131a",
   "metadata": {},
   "outputs": [],
   "source": []
  }
 ],
 "metadata": {
  "kernelspec": {
   "display_name": "Python 3 (ipykernel)",
   "language": "python",
   "name": "python3"
  },
  "language_info": {
   "codemirror_mode": {
    "name": "ipython",
    "version": 3
   },
   "file_extension": ".py",
   "mimetype": "text/x-python",
   "name": "python",
   "nbconvert_exporter": "python",
   "pygments_lexer": "ipython3",
   "version": "3.9.16"
  }
 },
 "nbformat": 4,
 "nbformat_minor": 5
}
